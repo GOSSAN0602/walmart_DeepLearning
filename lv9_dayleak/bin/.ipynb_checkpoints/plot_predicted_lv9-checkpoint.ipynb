{
 "cells": [
  {
   "cell_type": "code",
   "execution_count": 1,
   "metadata": {},
   "outputs": [],
   "source": [
    "import numpy as np # linear algebra\n",
    "import pandas as pd # data processing, CSV file I/O (e.g. pd.read_csv)\n",
    "import pandas_profiling as pdp\n",
    "from sklearn.preprocessing import MinMaxScaler\n",
    "import seaborn as sns\n",
    "import matplotlib.pyplot as plt\n",
    "import warnings\n",
    "import json\n",
    "warnings.simplefilter('ignore')\n",
    "pd.set_option('display.max_rows', 500)\n",
    "pd.set_option('display.max_columns', 100)"
   ]
  },
  {
   "cell_type": "code",
   "execution_count": 3,
   "metadata": {},
   "outputs": [],
   "source": [
    "# LOAD DATA\n",
    "INPUT_DIR  = '../../input/lv9'\n",
    "LOG_NAME = '06_28_03_28_42'\n",
    "predicted = np.load(f\"../log/{LOG_NAME}/pred_valid.npy\")\n",
    "test = np.load(f\"../log/{LOG_NAME}/pred_test.npy\")\n",
    "json_load = json.load(open(f'../log/{LOG_NAME}/params.json', 'r'))"
   ]
  },
  {
   "cell_type": "code",
   "execution_count": null,
   "metadata": {},
   "outputs": [],
   "source": [
    "# load data\n",
    "sales_array = np.load(args.INPUT_DIR+'sales_array.npy') # (70,1,1936)\n",
    "\n",
    "# make numeric input\n",
    "sales_train_x = sales_array[:, 0, -1 * (28 + args.use_days) : -28*2]\n",
    "\n",
    "mm = MinMaxScaler(feature_range=(0.05, 0.95))\n",
    "mm.fit(sales_train_x.T)\n",
    "# sales transform\n",
    "sales_train_x_norm_pad = np.concatenate([mm.transform(sales_train_x.T).T, padding_array], axis=1).reshape(70,1,args.use_days)\n"
   ]
  }
 ],
 "metadata": {
  "kernelspec": {
   "display_name": "Python 3",
   "language": "python",
   "name": "python3"
  },
  "language_info": {
   "codemirror_mode": {
    "name": "ipython",
    "version": 3
   },
   "file_extension": ".py",
   "mimetype": "text/x-python",
   "name": "python",
   "nbconvert_exporter": "python",
   "pygments_lexer": "ipython3",
   "version": "3.7.0"
  }
 },
 "nbformat": 4,
 "nbformat_minor": 4
}
